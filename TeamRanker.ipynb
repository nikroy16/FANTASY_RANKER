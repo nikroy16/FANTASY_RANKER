{
 "cells": [
  {
   "cell_type": "code",
   "execution_count": 1,
   "metadata": {
    "collapsed": true
   },
   "outputs": [],
   "source": [
    "import pandas as pd\n",
    "import numpy as np\n",
    "import matplotlib.pyplot as plt"
   ]
  },
  {
   "cell_type": "code",
   "execution_count": 2,
   "metadata": {
    "collapsed": false
   },
   "outputs": [],
   "source": [
    "data = pd.read_excel('2015_scoring_data.xlsx')\n",
    "win_loss_data = data[['Wins', 'Losses']]\n",
    "\n",
    "\n",
    "\n",
    "\n",
    "\n",
    "#### PARAMETERS ####\n",
    "\n",
    "week_num = 7\n",
    "scoring_data = data[['Week 1', 'Week 2', 'Week 3', 'Week 4', 'Week 5', 'Week 6', 'Week 7']]\n",
    "\n"
   ]
  },
  {
   "cell_type": "code",
   "execution_count": 3,
   "metadata": {
    "collapsed": false
   },
   "outputs": [],
   "source": [
    "\n",
    "###### Calculate Projections ########\n",
    "\n",
    "STD_DEV = 20\n",
    "data_projected = pd.DataFrame()\n",
    "\n",
    "\n",
    "for i in range(1,week_num):\n",
    "    sum = scoring_data['Week ' + str(week_num)].copy()\n",
    "    for j in range(i, week_num):\n",
    "        sum += scoring_data['Week ' + str(j)]\n",
    "    \n",
    "\n",
    "        \n",
    "    \n",
    "    curr_num_weeks = week_num - i + 1\n",
    "    data_projected['Week ' + str(i)] = sum/(curr_num_weeks) - STD_DEV * (curr_num_weeks)**(-1/2.0)\n",
    "\n",
    "    \n",
    "    \n",
    "max_proj = data_projected.max(axis = 1)\n",
    "max_proj = max_proj/(max_proj.max()/10)\n",
    "max_proj.sort(ascending = False)\n",
    "\n",
    "\n",
    "\n",
    "\n",
    "\n",
    "\n",
    "\n"
   ]
  },
  {
   "cell_type": "code",
   "execution_count": 4,
   "metadata": {
    "collapsed": false
   },
   "outputs": [],
   "source": [
    "#### Combine projected data with win rate data\n",
    "\n",
    "win_rate_data = win_loss_data['Wins']/(win_loss_data['Wins'] + win_loss_data['Losses'])\n",
    "win_rate_data.sort(ascending = False)\n",
    "\n",
    "combined_data = pd.DataFrame()\n",
    "combined_data['Proj_Points'] = max_proj\n",
    "combined_data['Win Rate'] = win_rate_data\n",
    "\n",
    "win_factor = (1 + combined_data['Win Rate'] * (week_num - 1 / 12))\n",
    "scoring_factor = (1 + combined_data['Proj_Points'] * (12 - week_num) / 12)\n",
    "\n",
    "prob_playoffs_data = win_factor * scoring_factor\n",
    "prob_playoffs_data = prob_playoffs_data/(prob_playoffs_data.max()/10)\n",
    "prob_playoffs_data.sort(ascending = False)\n",
    "\n",
    "\n",
    "\n",
    "\n",
    "\n",
    "\n",
    " "
   ]
  },
  {
   "cell_type": "code",
   "execution_count": 5,
   "metadata": {
    "collapsed": false
   },
   "outputs": [
    {
     "name": "stdout",
     "output_type": "stream",
     "text": [
      "ORIGINAL SCORING DATA\n",
      "\n",
      "          Week 1  Week 2  Week 3  Week 4  Week 5  Week 6  Week 7\n",
      "Roshun     117.3   116.2   133.0   100.2    99.8   105.1   137.0\n",
      "Swamp       95.3    88.6   153.6    83.7   104.9   107.6   110.5\n",
      "Neil       100.0   116.2   127.8    97.5   131.7    97.1    78.1\n",
      "Ashwin      99.3    91.3    92.8    85.8   100.3   127.7   118.1\n",
      "Sub        113.5    72.8   128.0    94.9    74.9    98.8   112.3\n",
      "Manju       97.9    87.3   104.5    75.5   120.4   131.4    98.7\n",
      "Rohan       85.7   135.6   129.1    69.6    92.3    86.1    96.0\n",
      "Nik        121.8    64.0   112.1    81.7    92.6    93.1    69.1\n",
      "Jag         73.5    62.7    93.6    90.6   103.8   117.3   103.2\n",
      "Vrishank   129.9   117.9   121.0    92.5    89.5    99.5   163.9\n",
      "\n",
      "\n",
      "\n",
      "PROJECTED POINTS METRIC\n",
      "\n",
      "Vrishank    10.000000\n",
      "Ashwin       9.251432\n",
      "Roshun       9.183137\n",
      "Manju        8.956128\n",
      "Swamp        8.771487\n",
      "Neil         8.498087\n",
      "Jag          8.213231\n",
      "Rohan        7.935244\n",
      "Sub          7.897024\n",
      "Nik          7.066246\n",
      "dtype: float64\n",
      "\n",
      "\n",
      "\n",
      "ORIGINAL WIN RATE DATA\n",
      "\n",
      "Roshun      0.857143\n",
      "Swamp       0.714286\n",
      "Ashwin      0.571429\n",
      "Jag         0.428571\n",
      "Nik         0.428571\n",
      "Rohan       0.428571\n",
      "Manju       0.428571\n",
      "Sub         0.428571\n",
      "Neil        0.428571\n",
      "Vrishank    0.333333\n",
      "dtype: float64\n",
      "\n",
      "\n",
      "\n",
      "PLAYOFF METRIC\n",
      "\n",
      "Roshun      10.000000\n",
      "Swamp        8.266811\n",
      "Ashwin       7.184972\n",
      "Manju        5.602296\n",
      "Neil         5.376332\n",
      "Jag          5.235804\n",
      "Rohan        5.098665\n",
      "Vrishank     5.097723\n",
      "Sub          5.079810\n",
      "Nik          4.669964\n",
      "dtype: float64\n",
      "\n",
      "\n",
      "\n"
     ]
    }
   ],
   "source": [
    "print('ORIGINAL SCORING DATA\\n')\n",
    "print(scoring_data)\n",
    "print('\\n\\n')\n",
    "\n",
    "print('PROJECTED POINTS METRIC\\n')\n",
    "\n",
    "print(max_proj)\n",
    "\n",
    "print('\\n\\n')\n",
    "\n",
    "print('ORIGINAL WIN RATE DATA\\n')\n",
    "print(win_rate_data)\n",
    "print('\\n\\n')\n",
    "\n",
    "\n",
    "print('PLAYOFF METRIC\\n')\n",
    "\n",
    "print(prob_playoffs_data)\n",
    "print('\\n\\n')"
   ]
  },
  {
   "cell_type": "code",
   "execution_count": null,
   "metadata": {
    "collapsed": true
   },
   "outputs": [],
   "source": []
  }
 ],
 "metadata": {
  "kernelspec": {
   "display_name": "Python 2",
   "language": "python",
   "name": "python2"
  },
  "language_info": {
   "codemirror_mode": {
    "name": "ipython",
    "version": 2
   },
   "file_extension": ".py",
   "mimetype": "text/x-python",
   "name": "python",
   "nbconvert_exporter": "python",
   "pygments_lexer": "ipython2",
   "version": "2.7.6"
  }
 },
 "nbformat": 4,
 "nbformat_minor": 0
}
